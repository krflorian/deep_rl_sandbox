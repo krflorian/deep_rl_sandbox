{
 "cells": [
  {
   "cell_type": "code",
   "execution_count": 4,
   "metadata": {},
   "outputs": [],
   "source": [
    "from collections import deque\n",
    "import pandas as pd\n",
    "import numpy as np \n",
    "import json\n",
    "import random\n",
    "import time\n",
    "import gym \n",
    "\n",
    "\n",
    "from IPython.display import clear_output\n",
    "\n",
    "from tensorflow.keras.models import Model\n",
    "from tensorflow.keras.layers import Input, Dense, Dropout\n",
    "from tensorflow.keras.optimizers import RMSprop, Adam\n",
    "from tensorflow.keras.models import load_model\n"
   ]
  },
  {
   "cell_type": "code",
   "execution_count": 5,
   "metadata": {},
   "outputs": [
    {
     "name": "stdout",
     "output_type": "stream",
     "text": [
      "episode 19 / 20 step 20 epsilon 1  \n",
      "finished loading replaymemory\n"
     ]
    }
   ],
   "source": [
    "import ddqn \n",
    "import gym \n",
    "import time \n",
    "from IPython.display import clear_output\n",
    "\n",
    "\n",
    "# parameters\n",
    "REPLAYMEMORY_SIZE = 1000000\n",
    "EPSILON_DECAY = 5000\n",
    "TARGETUPDATERATE = 100\n",
    "BATCHSIZE = 32\n",
    "WARMUPSTEPS = 100000\n",
    "TRAINSTEPS = 1\n",
    "GAMMA = 0.99\n",
    "RENDER = True\n",
    "\n",
    "# agent\n",
    "env = gym.make('CartPole-v1')\n",
    "version = 'ddqn-0.1'\n",
    "\n",
    "agent = ddqn.brain(\n",
    "    env, version, REPLAYMEMORY_SIZE,\n",
    "    TARGETUPDATERATE, BATCHSIZE, WARMUPSTEPS, TRAINSTEPS,\n",
    "    GAMMA, RENDER, EPSILON_DECAY)\n",
    "\n",
    "agent.main_network = agent.create_model()\n",
    "agent.target_network = agent.create_model()\n",
    "\n",
    "#run\n",
    "EPISODES = 20\n",
    "start = time.time()\n",
    "for e in range(EPISODES):\n",
    "    state = env.reset()\n",
    "    steps = 0\n",
    "    terminal = False\n",
    "    while not terminal:\n",
    "        steps += 1\n",
    "        #env.render()\n",
    "        action = agent.get_action(state)\n",
    "        nextState, reward, terminal, _ = env.step(action)\n",
    "        agent.set_perception(state, action, reward, nextState, terminal)\n",
    "        state = nextState\n",
    "        clear_output()\n",
    "        print('episode {} / {} step {} epsilon {}  \\r'.format(e, EPISODES, steps, agent.epsilon))\n",
    "print('finished loading replaymemory')"
   ]
  },
  {
   "cell_type": "code",
   "execution_count": 22,
   "metadata": {},
   "outputs": [
    {
     "data": {
      "text/plain": [
       "{'loss': [0.5754765272140503]}"
      ]
     },
     "execution_count": 22,
     "metadata": {},
     "output_type": "execute_result"
    }
   ],
   "source": [
    "history.history"
   ]
  },
  {
   "cell_type": "code",
   "execution_count": 19,
   "metadata": {},
   "outputs": [
    {
     "name": "stdout",
     "output_type": "stream",
     "text": [
      "start training agent\n",
      "Train on 32 samples\n",
      "32/32 [==============================] - 0s 186us/sample - loss: 0.5755\n"
     ]
    }
   ],
   "source": [
    "import random \n",
    "import numpy as np \n",
    "\n",
    "\n",
    "self = agent\n",
    "minibatch = random.sample(self.replayMemory, self.batchSize)\n",
    "if self.render:\n",
    "    print('start training agent')\n",
    "states,  target_q_values = [], []\n",
    "for state, action, reward, nextState, terminal in minibatch:\n",
    "    q_update = reward\n",
    "    if not terminal:\n",
    "        q_update = (reward + self.gamma * np.amax(self.target_network.predict(np.reshape(nextState, (1, 4)))[0]))\n",
    "    q_values = self.main_network.predict(np.reshape(state, (1, 4)))\n",
    "    q_values[0][action] = q_update\n",
    "    self.logger['q_values'].append(q_values)\n",
    "    states.append(state)\n",
    "    target_q_values.append(q_values[0])\n",
    "\n",
    "history = self.main_network.fit(np.array(states), np.array(target_q_values), batch_size=self.batchSize)"
   ]
  },
  {
   "cell_type": "code",
   "execution_count": 5,
   "metadata": {},
   "outputs": [
    {
     "name": "stdout",
     "output_type": "stream",
     "text": [
      "episode 199 / 200 episodic reward 21 epsilon 0.1\n",
      "end of training\n",
      "runtime 3907 seconds\n"
     ]
    }
   ],
   "source": [
    "# setup\n",
    "# parameters\n",
    "REPLAYMEMORY_SIZE = 1000\n",
    "BATCHSIZE = 32\n",
    "WARMUPSTEPS = 1000\n",
    "TRAINSTEPS = 1\n",
    "GAMMA = 0.99\n",
    "RENDER = True\n",
    "\n",
    "# agent\n",
    "env = gym.make('CartPole-v1')\n",
    "version = '0.1'\n",
    "agent = brain(env, RE version, REPLAYMEMORY_SIZE, BATCHSIZE, WARMUPSTEPS, TRAINSTEPS, GAMMA, RENDER)\n",
    "agent.tarmain_networkagent.create_model()\n",
    "\n",
    "#run\n",
    "EPISODES = 200\n",
    "start = time.time()\n",
    "for e in range(EPISODES):\n",
    "    state = env.reset()\n",
    "    steps = 0\n",
    "    terminal = False\n",
    "    while not terminal:\n",
    "        steps += 1\n",
    "        #env.render()\n",
    "        action = agent.get_action(state)\n",
    "        nextState, reward, terminal, _ = env.step(action)\n",
    "        agent.set_perception(state, action, reward, nextState, terminal)\n",
    "        state = nextState\n",
    "    clear_output()\n",
    "    print('episode {} / {} episodic reward {} epsilon {}'.format(e, EPISODES, steps, agent.epsilon))\n",
    "    agent.logger['episodic_rewards'].append(steps)\n",
    "print('end of training')\n",
    "print('runtime {} minutes'.format(round(time.time()-start)/60))\n",
    "env.close()"
   ]
  },
  {
   "cell_type": "code",
   "execution_count": 1,
   "metadata": {},
   "outputs": [
    {
     "ename": "NameError",
     "evalue": "name 'agent' is not defined",
     "output_type": "error",
     "traceback": [
      "\u001b[1;31m---------------------------------------------------------------------------\u001b[0m",
      "\u001b[1;31mNameError\u001b[0m                                 Traceback (most recent call last)",
      "\u001b[1;32m<ipython-input-1-839499d96046>\u001b[0m in \u001b[0;36m<module>\u001b[1;34m\u001b[0m\n\u001b[0;32m      1\u001b[0m \u001b[1;32mimport\u001b[0m \u001b[0mmatplotlib\u001b[0m\u001b[1;33m.\u001b[0m\u001b[0mpyplot\u001b[0m \u001b[1;32mas\u001b[0m \u001b[0mplt\u001b[0m\u001b[1;33m\u001b[0m\u001b[1;33m\u001b[0m\u001b[0m\n\u001b[0;32m      2\u001b[0m \u001b[1;33m\u001b[0m\u001b[0m\n\u001b[1;32m----> 3\u001b[1;33m \u001b[0mplt\u001b[0m\u001b[1;33m.\u001b[0m\u001b[0mplot\u001b[0m\u001b[1;33m(\u001b[0m\u001b[0mrange\u001b[0m\u001b[1;33m(\u001b[0m\u001b[0mlen\u001b[0m\u001b[1;33m(\u001b[0m\u001b[0magent\u001b[0m\u001b[1;33m.\u001b[0m\u001b[0mlogger\u001b[0m\u001b[1;33m[\u001b[0m\u001b[1;34m'loss'\u001b[0m\u001b[1;33m]\u001b[0m\u001b[1;33m)\u001b[0m\u001b[1;33m)\u001b[0m\u001b[1;33m,\u001b[0m \u001b[0magent\u001b[0m\u001b[1;33m.\u001b[0m\u001b[0mlogger\u001b[0m\u001b[1;33m[\u001b[0m\u001b[1;34m'loss'\u001b[0m\u001b[1;33m]\u001b[0m\u001b[1;33m)\u001b[0m\u001b[1;33m\u001b[0m\u001b[1;33m\u001b[0m\u001b[0m\n\u001b[0m\u001b[0;32m      4\u001b[0m \u001b[0mplt\u001b[0m\u001b[1;33m.\u001b[0m\u001b[0mtitle\u001b[0m\u001b[1;33m(\u001b[0m\u001b[1;34m'loss'\u001b[0m\u001b[1;33m)\u001b[0m\u001b[1;33m\u001b[0m\u001b[1;33m\u001b[0m\u001b[0m\n\u001b[0;32m      5\u001b[0m \u001b[0mplt\u001b[0m\u001b[1;33m.\u001b[0m\u001b[0mshow\u001b[0m\u001b[1;33m(\u001b[0m\u001b[1;33m)\u001b[0m\u001b[1;33m\u001b[0m\u001b[1;33m\u001b[0m\u001b[0m\n",
      "\u001b[1;31mNameError\u001b[0m: name 'agent' is not defined"
     ]
    }
   ],
   "source": [
    "import matplotlib.pyplot as plt\n",
    "\n",
    "plt.plot(range(len(agent.logger['loss'])), agent.logger['loss'])\n",
    "plt.title('loss')\n",
    "plt.show()\n",
    "\n",
    "plt.plot(range(len(agent.logger['episodic_rewards'])), agent.logger['episodic_rewards'])\n",
    "plt.title('episodic reward')\n",
    "plt.show()\n",
    "\n",
    "plt.plot(range(len(agent.logger['q_values'])), [q_value[0][0] for q_value in agent.logger['q_values']])\n",
    "plt.plot(range(len(agent.logger['q_values'])), [q_value[0][1] for q_value in agent.logger['q_values']])\n",
    "plt.title('q_values ')\n",
    "plt.show()"
   ]
  },
  {
   "cell_type": "code",
   "execution_count": 59,
   "metadata": {},
   "outputs": [
    {
     "name": "stdout",
     "output_type": "stream",
     "text": [
      "loss\n",
      "episodic_rewards\n",
      "q_values\n",
      "name\n",
      "[0.6184987, 0.7080616, 0.54207593, 0.49464262, 0.49991477, 0.50453615, 0.49342284, 0.54568565, 0.38712144, 0.52681476]\n",
      "<class 'float'>\n"
     ]
    }
   ],
   "source": [
    "\n",
    "for i in agent.logger:\n",
    "    print(i)\n",
    "print(agent.logger['loss'][0:10])\n",
    "print(type(np.array(agent.logger['loss']).tolist())"
   ]
  },
  {
   "cell_type": "code",
   "execution_count": 8,
   "metadata": {},
   "outputs": [
    {
     "name": "stdout",
     "output_type": "stream",
     "text": [
      "episode 9 / 10 episodic reward 16 epsilon 0.01\n",
      "end of training\n",
      "runtime 5 seconds\n"
     ]
    }
   ],
   "source": [
    "#run\n",
    "EPISODES = 10\n",
    "agent.epsilon = 0.01\n",
    "start = time.time()\n",
    "for e in range(EPISODES):\n",
    "    state = env.reset()\n",
    "    steps = 0\n",
    "    terminal = False\n",
    "    while not terminal:\n",
    "        steps += 1\n",
    "        #env.render()\n",
    "        action = agent.get_action(state)\n",
    "        nextState, reward, terminal, _ = env.step(action)\n",
    "        agent.set_perception(state, action, reward, nextState, terminal)\n",
    "        state = nextState\n",
    "    clear_output()\n",
    "    print('episode {} / {} episodic reward {} epsilon {}'.format(e, EPISODES, steps, agent.epsilon))\n",
    "    agent.logger['episodic_rewards'].append(steps)\n",
    "print('end of training')\n",
    "print('runtime {} seconds'.format(round(time.time()-start)))\n",
    "env.close()"
   ]
  }
 ],
 "metadata": {
  "file_extension": ".py",
  "kernelspec": {
   "display_name": "Python 3",
   "language": "python",
   "name": "python3"
  },
  "language_info": {
   "codemirror_mode": {
    "name": "ipython",
    "version": 3
   },
   "file_extension": ".py",
   "mimetype": "text/x-python",
   "name": "python",
   "nbconvert_exporter": "python",
   "pygments_lexer": "ipython3",
   "version": "3.5.3"
  },
  "mimetype": "text/x-python",
  "name": "python",
  "npconvert_exporter": "python",
  "pygments_lexer": "ipython3",
  "version": 3
 },
 "nbformat": 4,
 "nbformat_minor": 4
}
